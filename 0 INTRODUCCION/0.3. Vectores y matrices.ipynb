{
  "cells": [
    {
      "cell_type": "markdown",
      "metadata": {
        "id": "view-in-github",
        "colab_type": "text"
      },
      "source": [
        "<a href=\"https://colab.research.google.com/github/PabloMendieta/APRENDIZAJE_AUTOMATICO_23_24/blob/main/0%20INTRODUCCION/0.3.%20Vectores%20y%20matrices.ipynb\" target=\"_parent\"><img src=\"https://colab.research.google.com/assets/colab-badge.svg\" alt=\"Open In Colab\"/></a>"
      ]
    },
    {
      "cell_type": "code",
      "execution_count": 1,
      "metadata": {
        "pycharm": {
          "name": "#%%\n"
        },
        "id": "dKlTU2-_jdEW",
        "outputId": "bf818043-65de-48b1-cc5a-0aecf26fc235",
        "colab": {
          "base_uri": "https://localhost:8080/"
        }
      },
      "outputs": [
        {
          "output_type": "stream",
          "name": "stdout",
          "text": [
            "[5, 6, 9, 8, 7, 4, 65, 2, 2, 56, 46, 54]\n"
          ]
        }
      ],
      "source": [
        "lista = [5,6,9,8,7,4,65,2,2,56,46,54]\n",
        "print(lista)"
      ]
    },
    {
      "cell_type": "code",
      "execution_count": 2,
      "metadata": {
        "pycharm": {
          "name": "#%%\n"
        },
        "id": "gOC_OxpgjdEX",
        "outputId": "b777b79e-882b-4d82-e9c0-7176f5bafb77",
        "colab": {
          "base_uri": "https://localhost:8080/"
        }
      },
      "outputs": [
        {
          "output_type": "execute_result",
          "data": {
            "text/plain": [
              "True"
            ]
          },
          "metadata": {},
          "execution_count": 2
        }
      ],
      "source": [
        "2 in lista"
      ]
    },
    {
      "cell_type": "code",
      "execution_count": 3,
      "metadata": {
        "pycharm": {
          "name": "#%%\n"
        },
        "id": "kEjQwWR5jdEX",
        "outputId": "4f9bcf43-2c65-4198-f53b-d2f834c20eda",
        "colab": {
          "base_uri": "https://localhost:8080/"
        }
      },
      "outputs": [
        {
          "output_type": "execute_result",
          "data": {
            "text/plain": [
              "False"
            ]
          },
          "metadata": {},
          "execution_count": 3
        }
      ],
      "source": [
        "35 in lista"
      ]
    },
    {
      "cell_type": "code",
      "execution_count": 4,
      "metadata": {
        "pycharm": {
          "name": "#%%\n"
        },
        "id": "PXLg_HjKjdEX",
        "outputId": "085f34ee-03f2-4fa0-ea1a-42d2defd89f6",
        "colab": {
          "base_uri": "https://localhost:8080/"
        }
      },
      "outputs": [
        {
          "output_type": "execute_result",
          "data": {
            "text/plain": [
              "5"
            ]
          },
          "metadata": {},
          "execution_count": 4
        }
      ],
      "source": [
        "lista[0]"
      ]
    },
    {
      "cell_type": "code",
      "execution_count": 5,
      "metadata": {
        "pycharm": {
          "name": "#%%\n"
        },
        "id": "yUSGbMidjdEX",
        "outputId": "561ffa3a-9a47-4195-b2c3-310771c4a28b",
        "colab": {
          "base_uri": "https://localhost:8080/"
        }
      },
      "outputs": [
        {
          "output_type": "execute_result",
          "data": {
            "text/plain": [
              "54"
            ]
          },
          "metadata": {},
          "execution_count": 5
        }
      ],
      "source": [
        "lista[-1]"
      ]
    },
    {
      "cell_type": "code",
      "execution_count": 6,
      "metadata": {
        "pycharm": {
          "name": "#%%\n"
        },
        "id": "fpurXII5jdEX",
        "outputId": "9d8a4690-d3a8-471d-8ca4-2ae27e7cd7f8",
        "colab": {
          "base_uri": "https://localhost:8080/"
        }
      },
      "outputs": [
        {
          "output_type": "execute_result",
          "data": {
            "text/plain": [
              "[9, 8]"
            ]
          },
          "metadata": {},
          "execution_count": 6
        }
      ],
      "source": [
        "lista[2:4]"
      ]
    },
    {
      "cell_type": "code",
      "execution_count": 7,
      "metadata": {
        "pycharm": {
          "name": "#%%\n"
        },
        "id": "W_XNBrLGjdEY",
        "outputId": "c421c8bb-67be-49a1-f480-0be750237496",
        "colab": {
          "base_uri": "https://localhost:8080/"
        }
      },
      "outputs": [
        {
          "output_type": "execute_result",
          "data": {
            "text/plain": [
              "[5, 6, 9, 8, 7]"
            ]
          },
          "metadata": {},
          "execution_count": 7
        }
      ],
      "source": [
        "lista[:5]"
      ]
    },
    {
      "cell_type": "code",
      "execution_count": 8,
      "metadata": {
        "pycharm": {
          "name": "#%%\n"
        },
        "id": "WHTduMw-jdEY",
        "outputId": "b9c5de5f-2801-4506-96a3-a9ed651af1d8",
        "colab": {
          "base_uri": "https://localhost:8080/"
        }
      },
      "outputs": [
        {
          "output_type": "execute_result",
          "data": {
            "text/plain": [
              "[7, 4, 65, 2, 2, 56, 46, 54]"
            ]
          },
          "metadata": {},
          "execution_count": 8
        }
      ],
      "source": [
        "lista[4:]"
      ]
    },
    {
      "cell_type": "code",
      "execution_count": 9,
      "metadata": {
        "pycharm": {
          "name": "#%%\n"
        },
        "id": "YiLhVtRqjdEY",
        "outputId": "9a684175-32da-4c94-9bd9-791da8c1924f",
        "colab": {
          "base_uri": "https://localhost:8080/"
        }
      },
      "outputs": [
        {
          "output_type": "execute_result",
          "data": {
            "text/plain": [
              "[5, 6, 9, 8, 7, 4, 65, 2, 2, 56, 46, 54]"
            ]
          },
          "metadata": {},
          "execution_count": 9
        }
      ],
      "source": [
        "lista[:]"
      ]
    },
    {
      "cell_type": "code",
      "execution_count": 10,
      "metadata": {
        "pycharm": {
          "name": "#%%\n"
        },
        "id": "LmEqnrJvjdEY",
        "outputId": "4196c693-7ff2-41b6-d509-dd75f1313f77",
        "colab": {
          "base_uri": "https://localhost:8080/"
        }
      },
      "outputs": [
        {
          "output_type": "execute_result",
          "data": {
            "text/plain": [
              "array([1, 2, 3, 4, 5, 6, 7, 8, 9])"
            ]
          },
          "metadata": {},
          "execution_count": 10
        }
      ],
      "source": [
        "import numpy as np\n",
        "\n",
        "np.arange(1,10)"
      ]
    },
    {
      "cell_type": "code",
      "execution_count": 11,
      "metadata": {
        "pycharm": {
          "name": "#%%\n"
        },
        "id": "vBl_9mjWjdEY",
        "outputId": "00fd784c-7034-42db-a353-31611a7f7532",
        "colab": {
          "base_uri": "https://localhost:8080/"
        }
      },
      "outputs": [
        {
          "output_type": "execute_result",
          "data": {
            "text/plain": [
              "array([1, 3, 5, 7, 9])"
            ]
          },
          "metadata": {},
          "execution_count": 11
        }
      ],
      "source": [
        "np.arange(1,10,2)\n"
      ]
    },
    {
      "cell_type": "code",
      "execution_count": 12,
      "metadata": {
        "pycharm": {
          "name": "#%%\n"
        },
        "id": "oVco8b84jdEY",
        "outputId": "c19451c9-b5ec-404e-88fe-1d0aeea939ff",
        "colab": {
          "base_uri": "https://localhost:8080/"
        }
      },
      "outputs": [
        {
          "output_type": "execute_result",
          "data": {
            "text/plain": [
              "array([1, 2, 3, 4])"
            ]
          },
          "metadata": {},
          "execution_count": 12
        }
      ],
      "source": [
        "a = np.array([1,2,3,4])\n",
        "a"
      ]
    },
    {
      "cell_type": "code",
      "execution_count": 13,
      "metadata": {
        "pycharm": {
          "name": "#%%\n"
        },
        "id": "MaJY7okVjdEY",
        "outputId": "97f4d8d8-cf36-4048-e740-ad81b17b4d10",
        "colab": {
          "base_uri": "https://localhost:8080/"
        }
      },
      "outputs": [
        {
          "output_type": "execute_result",
          "data": {
            "text/plain": [
              "4"
            ]
          },
          "metadata": {},
          "execution_count": 13
        }
      ],
      "source": [
        "len(a)"
      ]
    },
    {
      "cell_type": "code",
      "execution_count": 14,
      "metadata": {
        "pycharm": {
          "name": "#%%\n"
        },
        "id": "r9dZ2I1cjdEY",
        "outputId": "d0c37c5e-ff32-471b-9fac-755045883250",
        "colab": {
          "base_uri": "https://localhost:8080/"
        }
      },
      "outputs": [
        {
          "output_type": "execute_result",
          "data": {
            "text/plain": [
              "1"
            ]
          },
          "metadata": {},
          "execution_count": 14
        }
      ],
      "source": [
        "min(a)"
      ]
    },
    {
      "cell_type": "code",
      "execution_count": 15,
      "metadata": {
        "pycharm": {
          "name": "#%%\n"
        },
        "id": "Lq5iq0wLjdEY",
        "outputId": "58bfb6a7-e718-4424-9f29-c7f1f577049a",
        "colab": {
          "base_uri": "https://localhost:8080/"
        }
      },
      "outputs": [
        {
          "output_type": "execute_result",
          "data": {
            "text/plain": [
              "4"
            ]
          },
          "metadata": {},
          "execution_count": 15
        }
      ],
      "source": [
        "max(a)"
      ]
    },
    {
      "cell_type": "code",
      "execution_count": 16,
      "metadata": {
        "pycharm": {
          "name": "#%%\n"
        },
        "id": "9UkmAGMWjdEY",
        "outputId": "c0691014-a045-40cb-afad-24be5ffdd659",
        "colab": {
          "base_uri": "https://localhost:8080/"
        }
      },
      "outputs": [
        {
          "output_type": "execute_result",
          "data": {
            "text/plain": [
              "array([[1, 2, 3],\n",
              "       [5, 6, 4],\n",
              "       [7, 5, 2]])"
            ]
          },
          "metadata": {},
          "execution_count": 16
        }
      ],
      "source": [
        "b = np.array([[1,2,3],[5,6,4],[7,5,2]])\n",
        "b"
      ]
    },
    {
      "cell_type": "code",
      "execution_count": 17,
      "metadata": {
        "pycharm": {
          "name": "#%%\n"
        },
        "id": "b5esWO-kjdEY",
        "outputId": "b84f18a5-2b32-4a82-f00e-c7a0b400fb33",
        "colab": {
          "base_uri": "https://localhost:8080/"
        }
      },
      "outputs": [
        {
          "output_type": "execute_result",
          "data": {
            "text/plain": [
              "array([1, 2, 3])"
            ]
          },
          "metadata": {},
          "execution_count": 17
        }
      ],
      "source": [
        "b[0]"
      ]
    },
    {
      "cell_type": "code",
      "execution_count": 18,
      "metadata": {
        "pycharm": {
          "name": "#%%\n"
        },
        "id": "FAuybA42jdEY",
        "outputId": "a0de0e41-245a-43c2-a8c2-24fae494fbde",
        "colab": {
          "base_uri": "https://localhost:8080/"
        }
      },
      "outputs": [
        {
          "output_type": "execute_result",
          "data": {
            "text/plain": [
              "array([2, 6, 5])"
            ]
          },
          "metadata": {},
          "execution_count": 18
        }
      ],
      "source": [
        "b[:,1]"
      ]
    },
    {
      "cell_type": "code",
      "execution_count": 19,
      "metadata": {
        "pycharm": {
          "name": "#%%\n"
        },
        "id": "iiin2sSgjdEY",
        "outputId": "87198f02-ef4d-4ff0-9efa-5d742b430b83",
        "colab": {
          "base_uri": "https://localhost:8080/"
        }
      },
      "outputs": [
        {
          "output_type": "execute_result",
          "data": {
            "text/plain": [
              "2"
            ]
          },
          "metadata": {},
          "execution_count": 19
        }
      ],
      "source": [
        "b[2,2]"
      ]
    },
    {
      "cell_type": "markdown",
      "metadata": {
        "pycharm": {
          "name": "#%% md\n"
        },
        "id": "2bT9d-TajdEY"
      },
      "source": [
        "# Revisar la indexación de matrices (filas columnas)"
      ]
    },
    {
      "cell_type": "code",
      "execution_count": 20,
      "metadata": {
        "pycharm": {
          "name": "#%%\n"
        },
        "id": "LjUpamlNjdEZ",
        "outputId": "b7137c14-560b-4d4b-f422-dc5725756fb2",
        "colab": {
          "base_uri": "https://localhost:8080/"
        }
      },
      "outputs": [
        {
          "output_type": "execute_result",
          "data": {
            "text/plain": [
              "array([[2, 3],\n",
              "       [6, 4]])"
            ]
          },
          "metadata": {},
          "execution_count": 20
        }
      ],
      "source": [
        "b[0:2, 1:3]"
      ]
    },
    {
      "cell_type": "code",
      "execution_count": 21,
      "metadata": {
        "pycharm": {
          "name": "#%%\n"
        },
        "id": "cEqER37_jdEZ",
        "outputId": "0d6803a0-b82c-4c46-cb32-e31b0d2e27d9",
        "colab": {
          "base_uri": "https://localhost:8080/"
        }
      },
      "outputs": [
        {
          "output_type": "execute_result",
          "data": {
            "text/plain": [
              "array([[0.73188337, 0.41680205, 0.61963472, 0.31313189, 0.73430805],\n",
              "       [0.32849977, 0.62931547, 0.92167764, 0.88698873, 0.81583856],\n",
              "       [0.93697486, 0.7748768 , 0.29010674, 0.72361312, 0.95650815],\n",
              "       [0.97205414, 0.22827648, 0.26450115, 0.95695298, 0.37835904],\n",
              "       [0.99984543, 0.8668748 , 0.7134479 , 0.95709477, 0.88899746]])"
            ]
          },
          "metadata": {},
          "execution_count": 21
        }
      ],
      "source": [
        "a = np.random.rand(5,5)\n",
        "a"
      ]
    },
    {
      "cell_type": "code",
      "execution_count": 22,
      "metadata": {
        "pycharm": {
          "name": "#%%\n"
        },
        "id": "nC7UPJGhjdEZ",
        "outputId": "566ffc2d-2501-4a27-b3d1-fa679d2ad563",
        "colab": {
          "base_uri": "https://localhost:8080/"
        }
      },
      "outputs": [
        {
          "output_type": "execute_result",
          "data": {
            "text/plain": [
              "(5, 5)"
            ]
          },
          "metadata": {},
          "execution_count": 22
        }
      ],
      "source": [
        "a.shape"
      ]
    },
    {
      "cell_type": "code",
      "execution_count": 23,
      "metadata": {
        "pycharm": {
          "name": "#%%\n"
        },
        "id": "NvtLOFIZjdEZ",
        "outputId": "ba010cf8-83c7-4c3e-8e58-272f25c94421",
        "colab": {
          "base_uri": "https://localhost:8080/"
        }
      },
      "outputs": [
        {
          "output_type": "execute_result",
          "data": {
            "text/plain": [
              "array([[0.56382575, 0.73571034, 0.04546502, 0.34637068, 0.02050685],\n",
              "       [0.99837021, 0.67242514, 0.32658185, 0.36083642, 0.29238539],\n",
              "       [0.82929129, 0.35797126, 0.24071535, 0.95051037, 0.02487523],\n",
              "       [0.69299985, 0.86559694, 0.38184922, 0.44934935, 0.68468128],\n",
              "       [0.74541629, 0.44852026, 0.55797374, 0.50605027, 0.1955412 ]])"
            ]
          },
          "metadata": {},
          "execution_count": 23
        }
      ],
      "source": [
        "b  = np.random.rand(5,5)\n",
        "b"
      ]
    },
    {
      "cell_type": "code",
      "execution_count": 24,
      "metadata": {
        "pycharm": {
          "name": "#%%\n"
        },
        "id": "cQATDEhHjdEZ",
        "outputId": "f3e4dd58-378b-49a2-bbf9-b59b995900bf",
        "colab": {
          "base_uri": "https://localhost:8080/"
        }
      },
      "outputs": [
        {
          "output_type": "execute_result",
          "data": {
            "text/plain": [
              "array([[1.29570912, 1.15251239, 0.66509974, 0.65950258, 0.7548149 ],\n",
              "       [1.32686998, 1.30174061, 1.24825949, 1.24782515, 1.10822395],\n",
              "       [1.76626615, 1.13284806, 0.53082209, 1.67412349, 0.98138338],\n",
              "       [1.66505399, 1.09387342, 0.64635038, 1.40630233, 1.06304032],\n",
              "       [1.74526172, 1.31539506, 1.27142164, 1.46314504, 1.08453866]])"
            ]
          },
          "metadata": {},
          "execution_count": 24
        }
      ],
      "source": [
        "a + b"
      ]
    },
    {
      "cell_type": "code",
      "execution_count": 25,
      "metadata": {
        "pycharm": {
          "name": "#%%\n"
        },
        "id": "MXEH7zi2jdEZ",
        "outputId": "388aed42-ea71-4c7b-eef4-a683374e4d3d",
        "colab": {
          "base_uri": "https://localhost:8080/"
        }
      },
      "outputs": [
        {
          "output_type": "execute_result",
          "data": {
            "text/plain": [
              "array([[ 0.16805763, -0.31890829,  0.57416969, -0.03323879,  0.7138012 ],\n",
              "       [-0.66987045, -0.04310966,  0.59509579,  0.52615231,  0.52345317],\n",
              "       [ 0.10768357,  0.41690555,  0.0493914 , -0.22689726,  0.93163292],\n",
              "       [ 0.27905429, -0.63732046, -0.11734807,  0.50760363, -0.30632224],\n",
              "       [ 0.25442914,  0.41835454,  0.15547416,  0.4510445 ,  0.69345626]])"
            ]
          },
          "metadata": {},
          "execution_count": 25
        }
      ],
      "source": [
        "a-b"
      ]
    },
    {
      "cell_type": "code",
      "execution_count": 26,
      "metadata": {
        "pycharm": {
          "name": "#%%\n"
        },
        "id": "UrwtsArbjdEZ",
        "outputId": "06a4680b-c96d-4de4-99b6-653ddc0d0165",
        "colab": {
          "base_uri": "https://localhost:8080/"
        }
      },
      "outputs": [
        {
          "output_type": "execute_result",
          "data": {
            "text/plain": [
              "array([[0.41265469, 0.30664558, 0.02817171, 0.10845971, 0.01505835],\n",
              "       [0.32796438, 0.42316754, 0.30100319, 0.32005784, 0.23853928],\n",
              "       [0.77702509, 0.27738362, 0.06983315, 0.68780177, 0.02379336],\n",
              "       [0.67363337, 0.19759543, 0.10099956, 0.4300062 , 0.25905535],\n",
              "       [0.74530107, 0.38881091, 0.39808519, 0.48433806, 0.17383563]])"
            ]
          },
          "metadata": {},
          "execution_count": 26
        }
      ],
      "source": [
        "a*b"
      ]
    },
    {
      "cell_type": "code",
      "execution_count": 27,
      "metadata": {
        "pycharm": {
          "name": "#%%\n"
        },
        "id": "J22K6j2vjdEZ",
        "outputId": "6e6651e3-391a-4584-fc03-2c7071ad13d1",
        "colab": {
          "base_uri": "https://localhost:8080/"
        }
      },
      "outputs": [
        {
          "output_type": "execute_result",
          "data": {
            "text/plain": [
              "array([[ 1.2980666 ,  0.5665301 , 13.62882226,  0.90403694, 35.80793591],\n",
              "       [ 0.32903602,  0.93588928,  2.82219492,  2.45814636,  2.79028494],\n",
              "       [ 1.12985012,  2.16463414,  1.20518591,  0.76128903, 38.4522276 ],\n",
              "       [ 1.40267583,  0.26372145,  0.69268481,  2.12964139,  0.55260609],\n",
              "       [ 1.34132491,  1.93274391,  1.27864064,  1.89130374,  4.5463434 ]])"
            ]
          },
          "metadata": {},
          "execution_count": 27
        }
      ],
      "source": [
        "a/b"
      ]
    },
    {
      "cell_type": "code",
      "execution_count": 28,
      "metadata": {
        "pycharm": {
          "name": "#%%\n"
        },
        "id": "RDNn6xnTjdEZ",
        "outputId": "2802cdbb-df8a-4cdb-f371-e5cb623eb478",
        "colab": {
          "base_uri": "https://localhost:8080/"
        }
      },
      "outputs": [
        {
          "output_type": "execute_result",
          "data": {
            "text/plain": [
              "array([[0.73188337, 0.32849977, 0.93697486, 0.97205414, 0.99984543],\n",
              "       [0.41680205, 0.62931547, 0.7748768 , 0.22827648, 0.8668748 ],\n",
              "       [0.61963472, 0.92167764, 0.29010674, 0.26450115, 0.7134479 ],\n",
              "       [0.31313189, 0.88698873, 0.72361312, 0.95695298, 0.95709477],\n",
              "       [0.73430805, 0.81583856, 0.95650815, 0.37835904, 0.88899746]])"
            ]
          },
          "metadata": {},
          "execution_count": 28
        }
      ],
      "source": [
        "np.transpose(a)"
      ]
    },
    {
      "cell_type": "code",
      "execution_count": 29,
      "metadata": {
        "pycharm": {
          "name": "#%%\n"
        },
        "id": "z6JDWGoOjdEZ",
        "outputId": "dae4277b-dbdc-4ab8-c1a9-6560ceca6c0b",
        "colab": {
          "base_uri": "https://localhost:8080/"
        }
      },
      "outputs": [
        {
          "output_type": "execute_result",
          "data": {
            "text/plain": [
              "array([[1.36633791, 2.39922043, 1.61385406, 3.19354248, 1.36182628],\n",
              "       [3.04414221, 1.58902814, 1.08497804, 1.12741004, 1.2257327 ],\n",
              "       [1.06726449, 1.29052773, 3.44700709, 1.38195394, 1.0454694 ],\n",
              "       [1.02874928, 4.38065273, 3.78070183, 1.04498342, 2.6429922 ],\n",
              "       [1.00015459, 1.15356912, 1.40164404, 1.04482861, 1.12486261]])"
            ]
          },
          "metadata": {},
          "execution_count": 29
        }
      ],
      "source": [
        "1/a"
      ]
    },
    {
      "cell_type": "markdown",
      "source": [
        "## PROBLEMAS"
      ],
      "metadata": {
        "id": "OJuE4JEajeI_"
      }
    },
    {
      "cell_type": "markdown",
      "source": [
        "1. Escribe una función **suma_matrices** que tome dos matrices **NumPy** como argumentos y devuelva una nueva matriz que sea la suma de las dos matrices originales. No utilices la operación de suma incorporada de NumPy (+)."
      ],
      "metadata": {
        "id": "gan8dp57jmqX"
      }
    },
    {
      "cell_type": "code",
      "source": [
        "import numpy as np\n",
        "\n",
        "def suma_matrices(A, B):\n",
        "  # INTRODUCIR EL CÓDIGO DE LA FUNCIÓN AQUÍ\n",
        "  # VALIDA QUE LAS MATRICES DE ENTRADA TIENEN LA MISMA DIMENSIÓN\n",
        "  filas, columnas = A.shape\n",
        "  # Creamoa una matriz resultados vacía\n",
        "  resultado = np.zeros((filas, columnas))\n",
        "\n",
        "  # Vamos elemento a elemento sumando las dos matrices\n",
        "  for i in range(filas):\n",
        "       for j in range(columnas):\n",
        "            resultado[i, j] = A[i, j] + B[i, j]\n",
        "  return resultado\n",
        "\n",
        "# Pruebas\n",
        "A = np.array([[1, 2], [3, 4]])\n",
        "B = np.array([[5, 6], [7, 8]])\n",
        "assert np.array_equal(suma_matrices(A, B), np.array([[6, 8], [10, 12]]))"
      ],
      "metadata": {
        "id": "RqVmsQR3jszO"
      },
      "execution_count": 32,
      "outputs": []
    },
    {
      "cell_type": "markdown",
      "source": [
        "2. Escribe una función **transpuesta** que tome una matriz **NumPy** como argumento y **devuelva su transpuesta**. No utilices la propiedad T de NumPy."
      ],
      "metadata": {
        "id": "rbWnPtUjkPh5"
      }
    },
    {
      "cell_type": "code",
      "source": [
        "import numpy as np\n",
        "\n",
        "def transpuesta(A):\n",
        "  # INTRODUCIR EL CÓDIGO DE LA FUNCIÓN AQUÍ\n",
        "   filas, columnas = A.shape\n",
        "   transpuestaA = np.zeros((columnas, filas))\n",
        "\n",
        "   for i in range(filas):\n",
        "      for j in range(columnas):\n",
        "          transpuestaA[j, i] = A[i, j]\n",
        "   return transpuestaA\n",
        "\n",
        "# Pruebas\n",
        "A = np.array([[1, 2, 3], [4, 5, 6]])\n",
        "assert np.array_equal(transpuesta(A), np.array([[1, 4], [2, 5], [3, 6]]))"
      ],
      "metadata": {
        "id": "XE1LFSPmkgyw"
      },
      "execution_count": 1,
      "outputs": []
    },
    {
      "cell_type": "markdown",
      "source": [
        "3. Escribe una función **multiplicar_matrices** que tome dos matrices **NumPy** como argumentos y devuelva una nueva matriz que sea el resultado de la multiplicación de las dos matrices originales. No utilices la operación de multiplicación de matrices incorporada de NumPy (@ o np.dot)."
      ],
      "metadata": {
        "id": "F1HYoqkdkw8K"
      }
    },
    {
      "cell_type": "code",
      "source": [
        "import numpy as np\n",
        "\n",
        "def multiplicar_matrices(A, B):\n",
        "  # INTRODUCIR EL CÓDIGO DE LA FUNCIÓN AQUÍ\n",
        "  # VALIDA QUE LAS MATRICES DE ENTRADA TIENEN LAS DIMENSIONES\n",
        "  # ADECUADAS QUE PERMITEN LA MULTIPLICACIÓN MATRICIAL\n",
        "\n",
        "  if A.shape[1] != B.shape[0]:\n",
        "      raise ValueError(\"Las matrices no son compatibles para la multiplicación.\")\n",
        "\n",
        "  filas_A, columnas_A = A.shape\n",
        "  filas_B, columnas_B = B.shape\n",
        "\n",
        "  # Creamos una matriz vacía para el resultado\n",
        "  resultado = np.zeros((filas_A, columnas_B), dtype=A.dtype)\n",
        "\n",
        "  for i in range(filas_A):\n",
        "      for j in range(columnas_B):\n",
        "          for k in range(columnas_A):\n",
        "                resultado[i, j] += A[i, k] * B[k, j]\n",
        "  return resultado\n",
        "# Pruebas\n",
        "A = np.array([[1, 2], [3, 4]])\n",
        "B = np.array([[2, 0], [1, 2]])\n",
        "assert np.array_equal(multiplicar_matrices(A, B), np.array([[4, 4], [10, 8]]))"
      ],
      "metadata": {
        "id": "9-Aa0AHNk6sK"
      },
      "execution_count": 9,
      "outputs": []
    }
  ],
  "metadata": {
    "kernelspec": {
      "display_name": "Python 3",
      "language": "python",
      "name": "python3"
    },
    "language_info": {
      "codemirror_mode": {
        "name": "ipython",
        "version": 3
      },
      "file_extension": ".py",
      "mimetype": "text/x-python",
      "name": "python",
      "nbconvert_exporter": "python",
      "pygments_lexer": "ipython3",
      "version": "3.6.5"
    },
    "colab": {
      "provenance": [],
      "include_colab_link": true
    }
  },
  "nbformat": 4,
  "nbformat_minor": 0
}